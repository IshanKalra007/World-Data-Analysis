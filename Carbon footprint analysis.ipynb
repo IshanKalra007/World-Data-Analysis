{
 "cells": [
  {
   "cell_type": "code",
   "execution_count": 2,
   "metadata": {},
   "outputs": [],
   "source": [
    "import pandas as pd\n",
    "main_df=pd.read_csv('main_data.csv')"
   ]
  },
  {
   "cell_type": "code",
   "execution_count": 3,
   "metadata": {},
   "outputs": [],
   "source": [
    "# Population\n",
    "#Country\n",
    "#Region\n",
    "#Co2 emissions\n",
    "main_df['Co2-Emissions'] = main_df['Co2-Emissions'].replace(',', '', regex=True).astype(float)"
   ]
  },
  {
   "cell_type": "code",
   "execution_count": 24,
   "metadata": {},
   "outputs": [],
   "source": [
    "import altair as alt\n",
    "\n",
    "\n",
    "step = 13  \n",
    "overlap = 1 \n",
    "\n",
    "carbon_chart = alt.Chart(main_df, height=step * len(main_df['Region'].unique())\n",
    ").transform_joinaggregate(\n",
    "    mean_emissions='mean(Co2-Emissions)', groupby=['Region']\n",
    ").transform_bin(\n",
    "    ['bin_max', 'bin_min'], 'Co2-Emissions'\n",
    ").transform_aggregate(\n",
    "    value='count()', groupby=['Region', 'mean_emissions', 'bin_min', 'bin_max']\n",
    ").transform_impute(\n",
    "    impute='value', groupby=['Region', 'mean_emissions'], key='bin_min', value=0\n",
    ").mark_area(\n",
    "    interpolate='monotone',\n",
    "    fillOpacity=0.8,\n",
    "    stroke='lightgray',\n",
    "    strokeWidth=0.5\n",
    ").encode(\n",
    "    alt.X('bin_min:Q',\n",
    "          title='Carbon Footprints',\n",
    "          bin=alt.Bin(binned=True)),\n",
    "    alt.Y('value:Q',\n",
    "          axis=None,\n",
    "          scale=alt.Scale(range=[80,0])),\n",
    "    alt.Fill('mean_emissions:Q',\n",
    "             legend=None)\n",
    ").facet(\n",
    "    row=alt.Row('Region:N',\n",
    "                title=None,\n",
    "                header=alt.Header(labelAngle=0, labelAlign='left'))\n",
    ").properties(\n",
    "    title='World CO2 Emissions',\n",
    "    bounds='flush'\n",
    ").configure_facet(\n",
    "    spacing=1\n",
    ").configure_view(\n",
    "    stroke=None\n",
    ").configure_title(\n",
    "    anchor='start'\n",
    ").interactive()\n"
   ]
  },
  {
   "cell_type": "code",
   "execution_count": 25,
   "metadata": {},
   "outputs": [],
   "source": [
    "dashboard3 = carbon_chart\n",
    "dashboard3.save('dashboard3.html')"
   ]
  },
  {
   "cell_type": "code",
   "execution_count": 61,
   "metadata": {},
   "outputs": [],
   "source": []
  },
  {
   "cell_type": "code",
   "execution_count": 62,
   "metadata": {},
   "outputs": [],
   "source": []
  },
  {
   "cell_type": "code",
   "execution_count": null,
   "metadata": {},
   "outputs": [],
   "source": []
  }
 ],
 "metadata": {
  "kernelspec": {
   "display_name": "Python 3 (ipykernel)",
   "language": "python",
   "name": "python3"
  },
  "language_info": {
   "codemirror_mode": {
    "name": "ipython",
    "version": 3
   },
   "file_extension": ".py",
   "mimetype": "text/x-python",
   "name": "python",
   "nbconvert_exporter": "python",
   "pygments_lexer": "ipython3",
   "version": "3.9.13"
  }
 },
 "nbformat": 4,
 "nbformat_minor": 4
}
