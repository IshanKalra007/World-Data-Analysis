{
 "cells": [
  {
   "cell_type": "code",
   "execution_count": 1,
   "metadata": {},
   "outputs": [],
   "source": [
    "import pandas as pd\n",
    "main_df=pd.read_csv('main_data.csv')"
   ]
  },
  {
   "cell_type": "code",
   "execution_count": 2,
   "metadata": {
    "collapsed": false,
    "jupyter": {
     "outputs_hidden": false
    },
    "pycharm": {
     "is_executing": true
    }
   },
   "outputs": [],
   "source": [
    "#gdp,cpi,cpi change"
   ]
  },
  {
   "cell_type": "code",
   "execution_count": 3,
   "metadata": {
    "collapsed": false,
    "jupyter": {
     "outputs_hidden": false
    },
    "pycharm": {
     "is_executing": true
    }
   },
   "outputs": [],
   "source": [
    "import altair as alt\n",
    "\n",
    "# Create the selection and encoding for the Altair chart\n",
    "selector = alt.selection_point(fields=['Region'])\n",
    "color = (\n",
    "    alt.condition(selector,\n",
    "                  alt.Color('Region:N', legend=None),\n",
    "                  alt.value('lightgray'))\n",
    ")\n",
    "region_color = alt.Color('Region:N', title='Region', scale=alt.Scale(scheme='tableau20'))\n",
    "conditional= alt.when(selector).then(\"Country\").otherwise(alt.value('lightgray'))\n"
   ]
  },
  {
   "cell_type": "code",
   "execution_count": 4,
   "metadata": {},
   "outputs": [],
   "source": [
    "# Base chart properties\n",
    "base = alt.Chart(main_df).properties(\n",
    "    width=500,\n",
    "    height=300\n",
    ").add_params(selector).interactive()"
   ]
  },
  {
   "cell_type": "code",
   "execution_count": 5,
   "metadata": {
    "collapsed": false,
    "jupyter": {
     "outputs_hidden": false
    },
    "pycharm": {
     "is_executing": true
    }
   },
   "outputs": [],
   "source": [
    "input_dropdown = alt.binding_select(options=['Europe', 'Asia', 'Oceania','Africas','North America','South America'], name='Region')\n",
    "selection = alt.selection_point(fields=['Region'], bind=input_dropdown)\n",
    "points = base.mark_point(filled=True, size=100).encode(\n",
    "    x='GDP:Q',\n",
    "    y='CPI:Q',\n",
    "    color=(\n",
    "    alt.when(selection)\n",
    "    .then(alt.Color(\"Region:N\").legend(None))\n",
    "    .otherwise(alt.value(\"lightgray\"))\n",
    "),\n",
    "    tooltip=['Country', 'GDP', 'CPI','Population']\n",
    ").add_params(\n",
    "    selection\n",
    ")"
   ]
  },
  {
   "cell_type": "code",
   "execution_count": 6,
   "metadata": {
    "collapsed": false,
    "jupyter": {
     "outputs_hidden": false
    },
    "pycharm": {
     "is_executing": true
    }
   },
   "outputs": [],
   "source": [
    "# Line chart for CPI Change (%) over GDP, filtered by selection\n",
    "line = base.mark_line().encode(\n",
    "    x='Minimum wage:Q',\n",
    "    y='CPI Change (%):Q',\n",
    "    color=region_color,\n",
    "    tooltip=['Country', 'GDP', 'CPI','Population']\n",
    ").transform_filter(selector).interactive()"
   ]
  },
  {
   "cell_type": "code",
   "execution_count": 7,
   "metadata": {},
   "outputs": [],
   "source": [
    "\n",
    "bar = base.mark_bar().encode(\n",
    "    x='GDP:Q',\n",
    "    y='CPI Change (%):Q',\n",
    "    color=region_color,\n",
    "    tooltip=['Country', 'GDP', 'CPI','Population']\n",
    ").transform_filter(selector).interactive()\n",
    "    "
   ]
  },
  {
   "cell_type": "code",
   "execution_count": 8,
   "metadata": {
    "collapsed": false,
    "jupyter": {
     "outputs_hidden": false
    },
    "pycharm": {
     "is_executing": true
    }
   },
   "outputs": [],
   "source": [
    "# Combine the charts\n",
    "GDP_chart = alt.vconcat(\n",
    "    points,\n",
    "    alt.hconcat(line, bar)\n",
    ").resolve_scale(\n",
    "    color='shared')\n"
   ]
  },
  {
   "cell_type": "code",
   "execution_count": 9,
   "metadata": {
    "collapsed": false,
    "jupyter": {
     "outputs_hidden": false
    },
    "pycharm": {
     "is_executing": true
    },
    "scrolled": true
   },
   "outputs": [],
   "source": [
    "# Display options\n",
    "final_dashboard = GDP_chart\n",
    "final_dashboard.save('dashboard2.html')"
   ]
  },
  {
   "cell_type": "code",
   "execution_count": null,
   "metadata": {
    "collapsed": false,
    "jupyter": {
     "outputs_hidden": false
    }
   },
   "outputs": [],
   "source": []
  },
  {
   "cell_type": "code",
   "execution_count": null,
   "metadata": {},
   "outputs": [],
   "source": []
  },
  {
   "cell_type": "code",
   "execution_count": null,
   "metadata": {},
   "outputs": [],
   "source": []
  }
 ],
 "metadata": {
  "kernelspec": {
   "display_name": "Python 3 (ipykernel)",
   "language": "python",
   "name": "python3"
  },
  "language_info": {
   "codemirror_mode": {
    "name": "ipython",
    "version": 3
   },
   "file_extension": ".py",
   "mimetype": "text/x-python",
   "name": "python",
   "nbconvert_exporter": "python",
   "pygments_lexer": "ipython3",
   "version": "3.9.13"
  }
 },
 "nbformat": 4,
 "nbformat_minor": 4
}
