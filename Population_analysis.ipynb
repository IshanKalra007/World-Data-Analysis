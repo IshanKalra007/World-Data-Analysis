{
 "cells": [
  {
   "cell_type": "code",
   "execution_count": 1,
   "metadata": {},
   "outputs": [
    {
     "data": {
      "text/html": [
       "<div>\n",
       "<style scoped>\n",
       "    .dataframe tbody tr th:only-of-type {\n",
       "        vertical-align: middle;\n",
       "    }\n",
       "\n",
       "    .dataframe tbody tr th {\n",
       "        vertical-align: top;\n",
       "    }\n",
       "\n",
       "    .dataframe thead th {\n",
       "        text-align: right;\n",
       "    }\n",
       "</style>\n",
       "<table border=\"1\" class=\"dataframe\">\n",
       "  <thead>\n",
       "    <tr style=\"text-align: right;\">\n",
       "      <th></th>\n",
       "      <th>Country</th>\n",
       "      <th>id</th>\n",
       "      <th>Abbreviation</th>\n",
       "      <th>latitude</th>\n",
       "      <th>longitude</th>\n",
       "      <th>Density</th>\n",
       "      <th>Agricultural Land( %)</th>\n",
       "      <th>Land Area(Km2)</th>\n",
       "      <th>Armed Forces size</th>\n",
       "      <th>Birth Rate</th>\n",
       "      <th>...</th>\n",
       "      <th>Out of pocket health expenditure</th>\n",
       "      <th>Physicians per thousand</th>\n",
       "      <th>Population</th>\n",
       "      <th>Population: Labor force participation (%)</th>\n",
       "      <th>Tax revenue (%)</th>\n",
       "      <th>Total tax rate</th>\n",
       "      <th>Unemployment rate</th>\n",
       "      <th>Urban_population</th>\n",
       "      <th>Region</th>\n",
       "      <th>iso_alpha_3</th>\n",
       "    </tr>\n",
       "  </thead>\n",
       "  <tbody>\n",
       "    <tr>\n",
       "      <th>0</th>\n",
       "      <td>Afghanistan</td>\n",
       "      <td>4</td>\n",
       "      <td>AF</td>\n",
       "      <td>33.939110</td>\n",
       "      <td>67.709953</td>\n",
       "      <td>60</td>\n",
       "      <td>58.10%</td>\n",
       "      <td>652,230</td>\n",
       "      <td>323,000</td>\n",
       "      <td>32.49</td>\n",
       "      <td>...</td>\n",
       "      <td>78.40%</td>\n",
       "      <td>0.28</td>\n",
       "      <td>38041754.0</td>\n",
       "      <td>48.9</td>\n",
       "      <td>9.30%</td>\n",
       "      <td>71.40%</td>\n",
       "      <td>11.12</td>\n",
       "      <td>9,797,273</td>\n",
       "      <td>Asia</td>\n",
       "      <td>AFG</td>\n",
       "    </tr>\n",
       "    <tr>\n",
       "      <th>1</th>\n",
       "      <td>Albania</td>\n",
       "      <td>8</td>\n",
       "      <td>AL</td>\n",
       "      <td>41.153332</td>\n",
       "      <td>20.168331</td>\n",
       "      <td>105</td>\n",
       "      <td>43.10%</td>\n",
       "      <td>28,748</td>\n",
       "      <td>9,000</td>\n",
       "      <td>11.78</td>\n",
       "      <td>...</td>\n",
       "      <td>56.90%</td>\n",
       "      <td>1.20</td>\n",
       "      <td>2854191.0</td>\n",
       "      <td>55.7</td>\n",
       "      <td>18.60%</td>\n",
       "      <td>36.60%</td>\n",
       "      <td>12.33</td>\n",
       "      <td>1,747,593</td>\n",
       "      <td>Europe</td>\n",
       "      <td>ALB</td>\n",
       "    </tr>\n",
       "    <tr>\n",
       "      <th>2</th>\n",
       "      <td>Algeria</td>\n",
       "      <td>12</td>\n",
       "      <td>DZ</td>\n",
       "      <td>28.033886</td>\n",
       "      <td>1.659626</td>\n",
       "      <td>18</td>\n",
       "      <td>17.40%</td>\n",
       "      <td>2,381,741</td>\n",
       "      <td>317,000</td>\n",
       "      <td>24.28</td>\n",
       "      <td>...</td>\n",
       "      <td>28.10%</td>\n",
       "      <td>1.72</td>\n",
       "      <td>43053054.0</td>\n",
       "      <td>41.2</td>\n",
       "      <td>37.20%</td>\n",
       "      <td>66.10%</td>\n",
       "      <td>11.70</td>\n",
       "      <td>31,510,100</td>\n",
       "      <td>Africa</td>\n",
       "      <td>DZA</td>\n",
       "    </tr>\n",
       "    <tr>\n",
       "      <th>3</th>\n",
       "      <td>Andorra</td>\n",
       "      <td>20</td>\n",
       "      <td>AD</td>\n",
       "      <td>42.506285</td>\n",
       "      <td>1.521801</td>\n",
       "      <td>164</td>\n",
       "      <td>40.00%</td>\n",
       "      <td>468</td>\n",
       "      <td>NaN</td>\n",
       "      <td>7.20</td>\n",
       "      <td>...</td>\n",
       "      <td>36.40%</td>\n",
       "      <td>3.33</td>\n",
       "      <td>77142.0</td>\n",
       "      <td>NaN</td>\n",
       "      <td>NaN</td>\n",
       "      <td>NaN</td>\n",
       "      <td>NaN</td>\n",
       "      <td>67,873</td>\n",
       "      <td>Europe</td>\n",
       "      <td>AND</td>\n",
       "    </tr>\n",
       "    <tr>\n",
       "      <th>4</th>\n",
       "      <td>Angola</td>\n",
       "      <td>24</td>\n",
       "      <td>AO</td>\n",
       "      <td>-11.202692</td>\n",
       "      <td>17.873887</td>\n",
       "      <td>26</td>\n",
       "      <td>47.50%</td>\n",
       "      <td>1,246,700</td>\n",
       "      <td>117,000</td>\n",
       "      <td>40.73</td>\n",
       "      <td>...</td>\n",
       "      <td>33.40%</td>\n",
       "      <td>0.21</td>\n",
       "      <td>31825295.0</td>\n",
       "      <td>77.5</td>\n",
       "      <td>9.20%</td>\n",
       "      <td>49.10%</td>\n",
       "      <td>6.89</td>\n",
       "      <td>21,061,025</td>\n",
       "      <td>Africa</td>\n",
       "      <td>AGO</td>\n",
       "    </tr>\n",
       "  </tbody>\n",
       "</table>\n",
       "<p>5 rows × 38 columns</p>\n",
       "</div>"
      ],
      "text/plain": [
       "       Country  id Abbreviation   latitude  longitude Density  \\\n",
       "0  Afghanistan   4           AF  33.939110  67.709953      60   \n",
       "1      Albania   8           AL  41.153332  20.168331     105   \n",
       "2      Algeria  12           DZ  28.033886   1.659626      18   \n",
       "3      Andorra  20           AD  42.506285   1.521801     164   \n",
       "4       Angola  24           AO -11.202692  17.873887      26   \n",
       "\n",
       "  Agricultural Land( %) Land Area(Km2) Armed Forces size  Birth Rate  ...  \\\n",
       "0                58.10%        652,230           323,000       32.49  ...   \n",
       "1                43.10%         28,748             9,000       11.78  ...   \n",
       "2                17.40%      2,381,741           317,000       24.28  ...   \n",
       "3                40.00%            468               NaN        7.20  ...   \n",
       "4                47.50%      1,246,700           117,000       40.73  ...   \n",
       "\n",
       "   Out of pocket health expenditure Physicians per thousand  Population  \\\n",
       "0                            78.40%                    0.28  38041754.0   \n",
       "1                            56.90%                    1.20   2854191.0   \n",
       "2                            28.10%                    1.72  43053054.0   \n",
       "3                            36.40%                    3.33     77142.0   \n",
       "4                            33.40%                    0.21  31825295.0   \n",
       "\n",
       "   Population: Labor force participation (%)  Tax revenue (%) Total tax rate  \\\n",
       "0                                       48.9            9.30%         71.40%   \n",
       "1                                       55.7           18.60%         36.60%   \n",
       "2                                       41.2           37.20%         66.10%   \n",
       "3                                        NaN              NaN            NaN   \n",
       "4                                       77.5            9.20%         49.10%   \n",
       "\n",
       "   Unemployment rate Urban_population  Region  iso_alpha_3  \n",
       "0              11.12        9,797,273    Asia          AFG  \n",
       "1              12.33        1,747,593  Europe          ALB  \n",
       "2              11.70       31,510,100  Africa          DZA  \n",
       "3                NaN           67,873  Europe          AND  \n",
       "4               6.89       21,061,025  Africa          AGO  \n",
       "\n",
       "[5 rows x 38 columns]"
      ]
     },
     "execution_count": 1,
     "metadata": {},
     "output_type": "execute_result"
    }
   ],
   "source": [
    "import numpy as np\n",
    "import pandas as pd\n",
    "import altair as alt\n",
    "import geopandas as gpd\n",
    "main_df=pd.read_csv('main_data.csv')\n",
    "main_df = main_df.rename(columns={'Latitude':'latitude'})\n",
    "main_df = main_df.rename(columns={'Longitude':'longitude'})\n",
    "main_df.head()"
   ]
  },
  {
   "cell_type": "code",
   "execution_count": 2,
   "metadata": {
    "collapsed": false,
    "jupyter": {
     "outputs_hidden": false
    },
    "pycharm": {
     "is_executing": true
    }
   },
   "outputs": [],
   "source": [
    "#Visualising population , life expectancy and birth rate using scatter plot(birth rate and life expectancy)\n",
    "# bar plot ( population and life expectancy)\n",
    "# Chloropleth (Region)\n"
   ]
  },
  {
   "cell_type": "code",
   "execution_count": 3,
   "metadata": {
    "collapsed": false,
    "jupyter": {
     "outputs_hidden": false
    },
    "pycharm": {
     "is_executing": true
    }
   },
   "outputs": [],
   "source": [
    "region_color = alt.Color('Region:N', title='Region', scale=alt.Scale(scheme='tableau20'))\n",
    "# Interactive selection for region\n",
    "brush = alt.selection_interval()\n",
    "conditional= alt.when(brush).then(\"Region\").otherwise(alt.value('lightgray'))\n",
    "connector= alt.selection_interval(fields=['Region'])"
   ]
  },
  {
   "cell_type": "code",
   "execution_count": 4,
   "metadata": {
    "collapsed": false,
    "jupyter": {
     "outputs_hidden": false
    },
    "pycharm": {
     "is_executing": true
    }
   },
   "outputs": [],
   "source": [
    "# Base scatter plot for GDP vs Population\n",
    "scatter_life = alt.Chart(main_df).mark_circle(size=60).encode(\n",
    "    x=alt.X('Life expectancy', title='Life expectancy', scale=alt.Scale(type='log')),\n",
    "    y=alt.Y('Birth Rate', title='Birth Rate', scale=alt.Scale(type='log')),\n",
    "    color=region_color,\n",
    "    tooltip=['Country', 'Region', 'Life expectancy','Birth Rate'],\n",
    "    opacity=alt.condition(brush, alt.value(1), alt.value(0.2))\n",
    ").properties(\n",
    "    title='Life Expectancy and Birth Rate',\n",
    "    width=300,\n",
    "    height=200\n",
    ").add_params(\n",
    "    brush\n",
    ").interactive()"
   ]
  },
  {
   "cell_type": "code",
   "execution_count": 5,
   "metadata": {
    "collapsed": false,
    "jupyter": {
     "outputs_hidden": false
    }
   },
   "outputs": [],
   "source": [
    "histogram_life = alt.Chart(main_df).mark_bar().encode(\n",
    "    y=alt.Y('Population', title='Population'),\n",
    "    x=alt.X('Life expectancy', title='life expectancy'),\n",
    "    tooltip=['Country', 'Region', 'Life expectancy', 'Infant mortality'],\n",
    "    color=conditional\n",
    ").add_params(\n",
    "    brush\n",
    ").properties(\n",
    "    title='population analysis',\n",
    "    width=300,\n",
    "    height=200\n",
    ").interactive()\n",
    "\n"
   ]
  },
  {
   "cell_type": "code",
   "execution_count": 6,
   "metadata": {},
   "outputs": [
    {
     "name": "stderr",
     "output_type": "stream",
     "text": [
      "C:\\Users\\Hp\\AppData\\Local\\Programs\\Python\\Python39\\lib\\site-packages\\pyogrio\\raw.py:198: RuntimeWarning: HTTP response code on https://naciscdn.org/naturalearth/110m/cultural/ne_110m_admin_0_countries.zip: 0\n",
      "  return ogr_read(\n"
     ]
    },
    {
     "ename": "DataSourceError",
     "evalue": "'/vsizip/vsicurl/https://naciscdn.org/naturalearth/110m/cultural/ne_110m_admin_0_countries.zip' does not exist in the file system, and is not recognized as a supported dataset name.",
     "output_type": "error",
     "traceback": [
      "\u001B[1;31m---------------------------------------------------------------------------\u001B[0m",
      "\u001B[1;31mDataSourceError\u001B[0m                           Traceback (most recent call last)",
      "Cell \u001B[1;32mIn[6], line 3\u001B[0m\n\u001B[0;32m      1\u001B[0m main_df \u001B[38;5;241m=\u001B[39m main_df\u001B[38;5;241m.\u001B[39mrename(columns\u001B[38;5;241m=\u001B[39m{\u001B[38;5;124m'\u001B[39m\u001B[38;5;124mCountry\u001B[39m\u001B[38;5;124m'\u001B[39m:\u001B[38;5;124m'\u001B[39m\u001B[38;5;124mname\u001B[39m\u001B[38;5;124m'\u001B[39m})\n\u001B[0;32m      2\u001B[0m url \u001B[38;5;241m=\u001B[39m \u001B[38;5;124m\"\u001B[39m\u001B[38;5;124mhttps://naciscdn.org/naturalearth/110m/cultural/ne_110m_admin_0_countries.zip\u001B[39m\u001B[38;5;124m\"\u001B[39m\n\u001B[1;32m----> 3\u001B[0m country_shapes \u001B[38;5;241m=\u001B[39m \u001B[43mgpd\u001B[49m\u001B[38;5;241;43m.\u001B[39;49m\u001B[43mread_file\u001B[49m\u001B[43m(\u001B[49m\u001B[43murl\u001B[49m\u001B[43m)\u001B[49m \u001B[38;5;66;03m# zipped shapefile\u001B[39;00m\n\u001B[0;32m      4\u001B[0m country_shapes \u001B[38;5;241m=\u001B[39m country_shapes[[\u001B[38;5;124m'\u001B[39m\u001B[38;5;124mNAME\u001B[39m\u001B[38;5;124m'\u001B[39m, \u001B[38;5;124m'\u001B[39m\u001B[38;5;124mCONTINENT\u001B[39m\u001B[38;5;124m'\u001B[39m, \u001B[38;5;124m'\u001B[39m\u001B[38;5;124mISO_A3\u001B[39m\u001B[38;5;124m'\u001B[39m, \u001B[38;5;124m'\u001B[39m\u001B[38;5;124mgeometry\u001B[39m\u001B[38;5;124m'\u001B[39m,]]\n\u001B[0;32m      5\u001B[0m \u001B[38;5;66;03m# Data generators for the background\u001B[39;00m\n",
      "File \u001B[1;32m~\\AppData\\Local\\Programs\\Python\\Python39\\lib\\site-packages\\geopandas\\io\\file.py:294\u001B[0m, in \u001B[0;36m_read_file\u001B[1;34m(filename, bbox, mask, columns, rows, engine, **kwargs)\u001B[0m\n\u001B[0;32m    291\u001B[0m             from_bytes \u001B[38;5;241m=\u001B[39m \u001B[38;5;28;01mTrue\u001B[39;00m\n\u001B[0;32m    293\u001B[0m \u001B[38;5;28;01mif\u001B[39;00m engine \u001B[38;5;241m==\u001B[39m \u001B[38;5;124m\"\u001B[39m\u001B[38;5;124mpyogrio\u001B[39m\u001B[38;5;124m\"\u001B[39m:\n\u001B[1;32m--> 294\u001B[0m     \u001B[38;5;28;01mreturn\u001B[39;00m _read_file_pyogrio(\n\u001B[0;32m    295\u001B[0m         filename, bbox\u001B[38;5;241m=\u001B[39mbbox, mask\u001B[38;5;241m=\u001B[39mmask, columns\u001B[38;5;241m=\u001B[39mcolumns, rows\u001B[38;5;241m=\u001B[39mrows, \u001B[38;5;241m*\u001B[39m\u001B[38;5;241m*\u001B[39mkwargs\n\u001B[0;32m    296\u001B[0m     )\n\u001B[0;32m    298\u001B[0m \u001B[38;5;28;01melif\u001B[39;00m engine \u001B[38;5;241m==\u001B[39m \u001B[38;5;124m\"\u001B[39m\u001B[38;5;124mfiona\u001B[39m\u001B[38;5;124m\"\u001B[39m:\n\u001B[0;32m    299\u001B[0m     \u001B[38;5;28;01mif\u001B[39;00m pd\u001B[38;5;241m.\u001B[39mapi\u001B[38;5;241m.\u001B[39mtypes\u001B[38;5;241m.\u001B[39mis_file_like(filename):\n",
      "File \u001B[1;32m~\\AppData\\Local\\Programs\\Python\\Python39\\lib\\site-packages\\geopandas\\io\\file.py:547\u001B[0m, in \u001B[0;36m_read_file_pyogrio\u001B[1;34m(path_or_bytes, bbox, mask, rows, **kwargs)\u001B[0m\n\u001B[0;32m    538\u001B[0m     warnings\u001B[38;5;241m.\u001B[39mwarn(\n\u001B[0;32m    539\u001B[0m         \u001B[38;5;124m\"\u001B[39m\u001B[38;5;124mThe \u001B[39m\u001B[38;5;124m'\u001B[39m\u001B[38;5;124minclude_fields\u001B[39m\u001B[38;5;124m'\u001B[39m\u001B[38;5;124m and \u001B[39m\u001B[38;5;124m'\u001B[39m\u001B[38;5;124mignore_fields\u001B[39m\u001B[38;5;124m'\u001B[39m\u001B[38;5;124m keywords are deprecated, and \u001B[39m\u001B[38;5;124m\"\u001B[39m\n\u001B[0;32m    540\u001B[0m         \u001B[38;5;124m\"\u001B[39m\u001B[38;5;124mwill be removed in a future release. You can use the \u001B[39m\u001B[38;5;124m'\u001B[39m\u001B[38;5;124mcolumns\u001B[39m\u001B[38;5;124m'\u001B[39m\u001B[38;5;124m keyword \u001B[39m\u001B[38;5;124m\"\u001B[39m\n\u001B[1;32m   (...)\u001B[0m\n\u001B[0;32m    543\u001B[0m         stacklevel\u001B[38;5;241m=\u001B[39m\u001B[38;5;241m3\u001B[39m,\n\u001B[0;32m    544\u001B[0m     )\n\u001B[0;32m    545\u001B[0m     kwargs[\u001B[38;5;124m\"\u001B[39m\u001B[38;5;124mcolumns\u001B[39m\u001B[38;5;124m\"\u001B[39m] \u001B[38;5;241m=\u001B[39m kwargs\u001B[38;5;241m.\u001B[39mpop(\u001B[38;5;124m\"\u001B[39m\u001B[38;5;124minclude_fields\u001B[39m\u001B[38;5;124m\"\u001B[39m)\n\u001B[1;32m--> 547\u001B[0m \u001B[38;5;28;01mreturn\u001B[39;00m pyogrio\u001B[38;5;241m.\u001B[39mread_dataframe(path_or_bytes, bbox\u001B[38;5;241m=\u001B[39mbbox, \u001B[38;5;241m*\u001B[39m\u001B[38;5;241m*\u001B[39mkwargs)\n",
      "File \u001B[1;32m~\\AppData\\Local\\Programs\\Python\\Python39\\lib\\site-packages\\pyogrio\\geopandas.py:265\u001B[0m, in \u001B[0;36mread_dataframe\u001B[1;34m(path_or_buffer, layer, encoding, columns, read_geometry, force_2d, skip_features, max_features, where, bbox, mask, fids, sql, sql_dialect, fid_as_index, use_arrow, on_invalid, arrow_to_pandas_kwargs, **kwargs)\u001B[0m\n\u001B[0;32m    260\u001B[0m \u001B[38;5;28;01mif\u001B[39;00m \u001B[38;5;129;01mnot\u001B[39;00m use_arrow:\n\u001B[0;32m    261\u001B[0m     \u001B[38;5;66;03m# For arrow, datetimes are read as is.\u001B[39;00m\n\u001B[0;32m    262\u001B[0m     \u001B[38;5;66;03m# For numpy IO, datetimes are read as string values to preserve timezone info\u001B[39;00m\n\u001B[0;32m    263\u001B[0m     \u001B[38;5;66;03m# as numpy does not directly support timezones.\u001B[39;00m\n\u001B[0;32m    264\u001B[0m     kwargs[\u001B[38;5;124m\"\u001B[39m\u001B[38;5;124mdatetime_as_string\u001B[39m\u001B[38;5;124m\"\u001B[39m] \u001B[38;5;241m=\u001B[39m \u001B[38;5;28;01mTrue\u001B[39;00m\n\u001B[1;32m--> 265\u001B[0m result \u001B[38;5;241m=\u001B[39m read_func(\n\u001B[0;32m    266\u001B[0m     path_or_buffer,\n\u001B[0;32m    267\u001B[0m     layer\u001B[38;5;241m=\u001B[39mlayer,\n\u001B[0;32m    268\u001B[0m     encoding\u001B[38;5;241m=\u001B[39mencoding,\n\u001B[0;32m    269\u001B[0m     columns\u001B[38;5;241m=\u001B[39mcolumns,\n\u001B[0;32m    270\u001B[0m     read_geometry\u001B[38;5;241m=\u001B[39mread_geometry,\n\u001B[0;32m    271\u001B[0m     force_2d\u001B[38;5;241m=\u001B[39mgdal_force_2d,\n\u001B[0;32m    272\u001B[0m     skip_features\u001B[38;5;241m=\u001B[39mskip_features,\n\u001B[0;32m    273\u001B[0m     max_features\u001B[38;5;241m=\u001B[39mmax_features,\n\u001B[0;32m    274\u001B[0m     where\u001B[38;5;241m=\u001B[39mwhere,\n\u001B[0;32m    275\u001B[0m     bbox\u001B[38;5;241m=\u001B[39mbbox,\n\u001B[0;32m    276\u001B[0m     mask\u001B[38;5;241m=\u001B[39mmask,\n\u001B[0;32m    277\u001B[0m     fids\u001B[38;5;241m=\u001B[39mfids,\n\u001B[0;32m    278\u001B[0m     sql\u001B[38;5;241m=\u001B[39msql,\n\u001B[0;32m    279\u001B[0m     sql_dialect\u001B[38;5;241m=\u001B[39msql_dialect,\n\u001B[0;32m    280\u001B[0m     return_fids\u001B[38;5;241m=\u001B[39mfid_as_index,\n\u001B[0;32m    281\u001B[0m     \u001B[38;5;241m*\u001B[39m\u001B[38;5;241m*\u001B[39mkwargs,\n\u001B[0;32m    282\u001B[0m )\n\u001B[0;32m    284\u001B[0m \u001B[38;5;28;01mif\u001B[39;00m use_arrow:\n\u001B[0;32m    285\u001B[0m     meta, table \u001B[38;5;241m=\u001B[39m result\n",
      "File \u001B[1;32m~\\AppData\\Local\\Programs\\Python\\Python39\\lib\\site-packages\\pyogrio\\raw.py:198\u001B[0m, in \u001B[0;36mread\u001B[1;34m(path_or_buffer, layer, encoding, columns, read_geometry, force_2d, skip_features, max_features, where, bbox, mask, fids, sql, sql_dialect, return_fids, datetime_as_string, **kwargs)\u001B[0m\n\u001B[0;32m     59\u001B[0m \u001B[38;5;250m\u001B[39m\u001B[38;5;124;03m\"\"\"Read OGR data source into numpy arrays.\u001B[39;00m\n\u001B[0;32m     60\u001B[0m \n\u001B[0;32m     61\u001B[0m \u001B[38;5;124;03mIMPORTANT: non-linear geometry types (e.g., MultiSurface) are converted\u001B[39;00m\n\u001B[1;32m   (...)\u001B[0m\n\u001B[0;32m    194\u001B[0m \n\u001B[0;32m    195\u001B[0m \u001B[38;5;124;03m\"\"\"\u001B[39;00m\n\u001B[0;32m    196\u001B[0m dataset_kwargs \u001B[38;5;241m=\u001B[39m _preprocess_options_key_value(kwargs) \u001B[38;5;28;01mif\u001B[39;00m kwargs \u001B[38;5;28;01melse\u001B[39;00m {}\n\u001B[1;32m--> 198\u001B[0m \u001B[38;5;28;01mreturn\u001B[39;00m \u001B[43mogr_read\u001B[49m\u001B[43m(\u001B[49m\n\u001B[0;32m    199\u001B[0m \u001B[43m    \u001B[49m\u001B[43mget_vsi_path_or_buffer\u001B[49m\u001B[43m(\u001B[49m\u001B[43mpath_or_buffer\u001B[49m\u001B[43m)\u001B[49m\u001B[43m,\u001B[49m\n\u001B[0;32m    200\u001B[0m \u001B[43m    \u001B[49m\u001B[43mlayer\u001B[49m\u001B[38;5;241;43m=\u001B[39;49m\u001B[43mlayer\u001B[49m\u001B[43m,\u001B[49m\n\u001B[0;32m    201\u001B[0m \u001B[43m    \u001B[49m\u001B[43mencoding\u001B[49m\u001B[38;5;241;43m=\u001B[39;49m\u001B[43mencoding\u001B[49m\u001B[43m,\u001B[49m\n\u001B[0;32m    202\u001B[0m \u001B[43m    \u001B[49m\u001B[43mcolumns\u001B[49m\u001B[38;5;241;43m=\u001B[39;49m\u001B[43mcolumns\u001B[49m\u001B[43m,\u001B[49m\n\u001B[0;32m    203\u001B[0m \u001B[43m    \u001B[49m\u001B[43mread_geometry\u001B[49m\u001B[38;5;241;43m=\u001B[39;49m\u001B[43mread_geometry\u001B[49m\u001B[43m,\u001B[49m\n\u001B[0;32m    204\u001B[0m \u001B[43m    \u001B[49m\u001B[43mforce_2d\u001B[49m\u001B[38;5;241;43m=\u001B[39;49m\u001B[43mforce_2d\u001B[49m\u001B[43m,\u001B[49m\n\u001B[0;32m    205\u001B[0m \u001B[43m    \u001B[49m\u001B[43mskip_features\u001B[49m\u001B[38;5;241;43m=\u001B[39;49m\u001B[43mskip_features\u001B[49m\u001B[43m,\u001B[49m\n\u001B[0;32m    206\u001B[0m \u001B[43m    \u001B[49m\u001B[43mmax_features\u001B[49m\u001B[38;5;241;43m=\u001B[39;49m\u001B[43mmax_features\u001B[49m\u001B[43m \u001B[49m\u001B[38;5;129;43;01mor\u001B[39;49;00m\u001B[43m \u001B[49m\u001B[38;5;241;43m0\u001B[39;49m\u001B[43m,\u001B[49m\n\u001B[0;32m    207\u001B[0m \u001B[43m    \u001B[49m\u001B[43mwhere\u001B[49m\u001B[38;5;241;43m=\u001B[39;49m\u001B[43mwhere\u001B[49m\u001B[43m,\u001B[49m\n\u001B[0;32m    208\u001B[0m \u001B[43m    \u001B[49m\u001B[43mbbox\u001B[49m\u001B[38;5;241;43m=\u001B[39;49m\u001B[43mbbox\u001B[49m\u001B[43m,\u001B[49m\n\u001B[0;32m    209\u001B[0m \u001B[43m    \u001B[49m\u001B[43mmask\u001B[49m\u001B[38;5;241;43m=\u001B[39;49m\u001B[43m_mask_to_wkb\u001B[49m\u001B[43m(\u001B[49m\u001B[43mmask\u001B[49m\u001B[43m)\u001B[49m\u001B[43m,\u001B[49m\n\u001B[0;32m    210\u001B[0m \u001B[43m    \u001B[49m\u001B[43mfids\u001B[49m\u001B[38;5;241;43m=\u001B[39;49m\u001B[43mfids\u001B[49m\u001B[43m,\u001B[49m\n\u001B[0;32m    211\u001B[0m \u001B[43m    \u001B[49m\u001B[43msql\u001B[49m\u001B[38;5;241;43m=\u001B[39;49m\u001B[43msql\u001B[49m\u001B[43m,\u001B[49m\n\u001B[0;32m    212\u001B[0m \u001B[43m    \u001B[49m\u001B[43msql_dialect\u001B[49m\u001B[38;5;241;43m=\u001B[39;49m\u001B[43msql_dialect\u001B[49m\u001B[43m,\u001B[49m\n\u001B[0;32m    213\u001B[0m \u001B[43m    \u001B[49m\u001B[43mreturn_fids\u001B[49m\u001B[38;5;241;43m=\u001B[39;49m\u001B[43mreturn_fids\u001B[49m\u001B[43m,\u001B[49m\n\u001B[0;32m    214\u001B[0m \u001B[43m    \u001B[49m\u001B[43mdataset_kwargs\u001B[49m\u001B[38;5;241;43m=\u001B[39;49m\u001B[43mdataset_kwargs\u001B[49m\u001B[43m,\u001B[49m\n\u001B[0;32m    215\u001B[0m \u001B[43m    \u001B[49m\u001B[43mdatetime_as_string\u001B[49m\u001B[38;5;241;43m=\u001B[39;49m\u001B[43mdatetime_as_string\u001B[49m\u001B[43m,\u001B[49m\n\u001B[0;32m    216\u001B[0m \u001B[43m\u001B[49m\u001B[43m)\u001B[49m\n",
      "File \u001B[1;32mpyogrio\\\\_io.pyx:1240\u001B[0m, in \u001B[0;36mpyogrio._io.ogr_read\u001B[1;34m()\u001B[0m\n",
      "File \u001B[1;32mpyogrio\\\\_io.pyx:220\u001B[0m, in \u001B[0;36mpyogrio._io.ogr_open\u001B[1;34m()\u001B[0m\n",
      "\u001B[1;31mDataSourceError\u001B[0m: '/vsizip/vsicurl/https://naciscdn.org/naturalearth/110m/cultural/ne_110m_admin_0_countries.zip' does not exist in the file system, and is not recognized as a supported dataset name."
     ]
    }
   ],
   "source": [
    "main_df = main_df.rename(columns={'Country':'name'})\n",
    "url = \"https://naciscdn.org/naturalearth/110m/cultural/ne_110m_admin_0_countries.zip\"\n",
    "country_shapes = gpd.read_file(url) # zipped shapefile\n",
    "country_shapes = country_shapes[['NAME', 'CONTINENT', 'ISO_A3', 'geometry',]]\n",
    "# Data generators for the background\n",
    "sphere = alt.sphere()\n",
    "graticule = alt.graticule()\n",
    "# Layering and configuring the components\n",
    "basemap = (\n",
    "alt.layer(\n",
    "#sphere background\n",
    "alt.Chart(sphere).mark_geoshape(fill='white'),\n",
    "#add meridians and parallels (graticules)\n",
    "alt.Chart(graticule).mark_geoshape(stroke='black'),\n",
    ")\n",
    ")\n",
    "countries = alt.Chart(country_shapes).mark_geoshape(fill='Coral', stroke='white')\n",
    "choropleth = (\n",
    "alt.Chart(country_shapes)\n",
    ".mark_geoshape().transform_lookup(\n",
    "lookup='ISO_A3',\n",
    "from_=alt.LookupData(data=main_df, key='iso_alpha_3', fields=['Region'])\n",
    ")\n",
    ".encode(color=conditional,\n",
    "      opacity=alt.condition(brush, alt.value(1), alt.value(0.2))\n",
    ").add_params(brush)\n",
    ")\n",
    "((basemap + countries + choropleth)\n",
    ".project(\"mercator\").properties(width=600, height=300)\n",
    ")"
   ]
  },
  {
   "cell_type": "code",
   "execution_count": null,
   "metadata": {
    "collapsed": false,
    "jupyter": {
     "outputs_hidden": false
    },
    "pycharm": {
     "is_executing": true
    }
   },
   "outputs": [],
   "source": [
    "# Combine the charts \n",
    "dashboard1 = alt.vconcat(\n",
    "    choropleth,\n",
    "    alt.hconcat(scatter_life, histogram_life)\n",
    ").resolve_scale(\n",
    "    color='shared'\n",
    ") \n",
    "dashboard1.save(\"dashboard1.html\")\n",
    "\n",
    "\n"
   ]
  },
  {
   "cell_type": "code",
   "execution_count": 37,
   "metadata": {},
   "outputs": [],
   "source": []
  },
  {
   "cell_type": "code",
   "execution_count": 38,
   "metadata": {},
   "outputs": [],
   "source": [
    "\n",
    "    "
   ]
  },
  {
   "cell_type": "code",
   "execution_count": 39,
   "metadata": {},
   "outputs": [],
   "source": []
  },
  {
   "cell_type": "code",
   "execution_count": 40,
   "metadata": {},
   "outputs": [],
   "source": []
  },
  {
   "cell_type": "code",
   "execution_count": null,
   "metadata": {},
   "outputs": [],
   "source": []
  }
 ],
 "metadata": {
  "kernelspec": {
   "display_name": "Python 3 (ipykernel)",
   "language": "python",
   "name": "python3"
  },
  "language_info": {
   "codemirror_mode": {
    "name": "ipython",
    "version": 3
   },
   "file_extension": ".py",
   "mimetype": "text/x-python",
   "name": "python",
   "nbconvert_exporter": "python",
   "pygments_lexer": "ipython3",
   "version": "3.9.13"
  }
 },
 "nbformat": 4,
 "nbformat_minor": 4
}
