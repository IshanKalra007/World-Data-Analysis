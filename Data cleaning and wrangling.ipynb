{
 "cells": [
  {
   "cell_type": "code",
   "execution_count": 27,
   "metadata": {
    "collapsed": true,
    "jupyter": {
     "outputs_hidden": true
    }
   },
   "outputs": [
    {
     "data": {
      "text/html": [
       "<div>\n",
       "<style scoped>\n",
       "    .dataframe tbody tr th:only-of-type {\n",
       "        vertical-align: middle;\n",
       "    }\n",
       "\n",
       "    .dataframe tbody tr th {\n",
       "        vertical-align: top;\n",
       "    }\n",
       "\n",
       "    .dataframe thead th {\n",
       "        text-align: right;\n",
       "    }\n",
       "</style>\n",
       "<table border=\"1\" class=\"dataframe\">\n",
       "  <thead>\n",
       "    <tr style=\"text-align: right;\">\n",
       "      <th></th>\n",
       "      <th>Country</th>\n",
       "      <th>id</th>\n",
       "      <th>Abbreviation</th>\n",
       "      <th>Latitude</th>\n",
       "      <th>Longitude</th>\n",
       "      <th>Density\\n(P/Km2)</th>\n",
       "      <th>Agricultural Land( %)</th>\n",
       "      <th>Land Area(Km2)</th>\n",
       "      <th>Armed Forces size</th>\n",
       "      <th>Birth Rate</th>\n",
       "      <th>...</th>\n",
       "      <th>Official language</th>\n",
       "      <th>Out of pocket health expenditure</th>\n",
       "      <th>Physicians per thousand</th>\n",
       "      <th>Population</th>\n",
       "      <th>Population: Labor force participation (%)</th>\n",
       "      <th>Tax revenue (%)</th>\n",
       "      <th>Total tax rate</th>\n",
       "      <th>Unemployment rate</th>\n",
       "      <th>Urban_population</th>\n",
       "      <th>Region</th>\n",
       "    </tr>\n",
       "  </thead>\n",
       "  <tbody>\n",
       "    <tr>\n",
       "      <th>0</th>\n",
       "      <td>Afghanistan</td>\n",
       "      <td>4</td>\n",
       "      <td>AF</td>\n",
       "      <td>33.939110</td>\n",
       "      <td>67.709953</td>\n",
       "      <td>60</td>\n",
       "      <td>58.10%</td>\n",
       "      <td>652,230</td>\n",
       "      <td>323,000</td>\n",
       "      <td>32.49</td>\n",
       "      <td>...</td>\n",
       "      <td>Pashto</td>\n",
       "      <td>78.40%</td>\n",
       "      <td>0.28</td>\n",
       "      <td>38,041,754</td>\n",
       "      <td>48.90%</td>\n",
       "      <td>9.30%</td>\n",
       "      <td>71.40%</td>\n",
       "      <td>11.12%</td>\n",
       "      <td>9,797,273</td>\n",
       "      <td>Asia</td>\n",
       "    </tr>\n",
       "    <tr>\n",
       "      <th>1</th>\n",
       "      <td>Albania</td>\n",
       "      <td>8</td>\n",
       "      <td>AL</td>\n",
       "      <td>41.153332</td>\n",
       "      <td>20.168331</td>\n",
       "      <td>105</td>\n",
       "      <td>43.10%</td>\n",
       "      <td>28,748</td>\n",
       "      <td>9,000</td>\n",
       "      <td>11.78</td>\n",
       "      <td>...</td>\n",
       "      <td>Albanian</td>\n",
       "      <td>56.90%</td>\n",
       "      <td>1.20</td>\n",
       "      <td>2,854,191</td>\n",
       "      <td>55.70%</td>\n",
       "      <td>18.60%</td>\n",
       "      <td>36.60%</td>\n",
       "      <td>12.33%</td>\n",
       "      <td>1,747,593</td>\n",
       "      <td>Europe</td>\n",
       "    </tr>\n",
       "    <tr>\n",
       "      <th>2</th>\n",
       "      <td>Algeria</td>\n",
       "      <td>12</td>\n",
       "      <td>DZ</td>\n",
       "      <td>28.033886</td>\n",
       "      <td>1.659626</td>\n",
       "      <td>18</td>\n",
       "      <td>17.40%</td>\n",
       "      <td>2,381,741</td>\n",
       "      <td>317,000</td>\n",
       "      <td>24.28</td>\n",
       "      <td>...</td>\n",
       "      <td>Arabic</td>\n",
       "      <td>28.10%</td>\n",
       "      <td>1.72</td>\n",
       "      <td>43,053,054</td>\n",
       "      <td>41.20%</td>\n",
       "      <td>37.20%</td>\n",
       "      <td>66.10%</td>\n",
       "      <td>11.70%</td>\n",
       "      <td>31,510,100</td>\n",
       "      <td>Africa</td>\n",
       "    </tr>\n",
       "    <tr>\n",
       "      <th>3</th>\n",
       "      <td>Andorra</td>\n",
       "      <td>20</td>\n",
       "      <td>AD</td>\n",
       "      <td>42.506285</td>\n",
       "      <td>1.521801</td>\n",
       "      <td>164</td>\n",
       "      <td>40.00%</td>\n",
       "      <td>468</td>\n",
       "      <td>NaN</td>\n",
       "      <td>7.20</td>\n",
       "      <td>...</td>\n",
       "      <td>Catalan</td>\n",
       "      <td>36.40%</td>\n",
       "      <td>3.33</td>\n",
       "      <td>77,142</td>\n",
       "      <td>NaN</td>\n",
       "      <td>NaN</td>\n",
       "      <td>NaN</td>\n",
       "      <td>NaN</td>\n",
       "      <td>67,873</td>\n",
       "      <td>Europe</td>\n",
       "    </tr>\n",
       "    <tr>\n",
       "      <th>4</th>\n",
       "      <td>Angola</td>\n",
       "      <td>24</td>\n",
       "      <td>AO</td>\n",
       "      <td>-11.202692</td>\n",
       "      <td>17.873887</td>\n",
       "      <td>26</td>\n",
       "      <td>47.50%</td>\n",
       "      <td>1,246,700</td>\n",
       "      <td>117,000</td>\n",
       "      <td>40.73</td>\n",
       "      <td>...</td>\n",
       "      <td>Portuguese</td>\n",
       "      <td>33.40%</td>\n",
       "      <td>0.21</td>\n",
       "      <td>31,825,295</td>\n",
       "      <td>77.50%</td>\n",
       "      <td>9.20%</td>\n",
       "      <td>49.10%</td>\n",
       "      <td>6.89%</td>\n",
       "      <td>21,061,025</td>\n",
       "      <td>Africa</td>\n",
       "    </tr>\n",
       "  </tbody>\n",
       "</table>\n",
       "<p>5 rows × 37 columns</p>\n",
       "</div>"
      ],
      "text/plain": [
       "       Country  id Abbreviation   Latitude  Longitude Density\\n(P/Km2)  \\\n",
       "0  Afghanistan   4           AF  33.939110  67.709953               60   \n",
       "1      Albania   8           AL  41.153332  20.168331              105   \n",
       "2      Algeria  12           DZ  28.033886   1.659626               18   \n",
       "3      Andorra  20           AD  42.506285   1.521801              164   \n",
       "4       Angola  24           AO -11.202692  17.873887               26   \n",
       "\n",
       "  Agricultural Land( %) Land Area(Km2) Armed Forces size  Birth Rate  ...  \\\n",
       "0                58.10%        652,230           323,000       32.49  ...   \n",
       "1                43.10%         28,748             9,000       11.78  ...   \n",
       "2                17.40%      2,381,741           317,000       24.28  ...   \n",
       "3                40.00%            468               NaN        7.20  ...   \n",
       "4                47.50%      1,246,700           117,000       40.73  ...   \n",
       "\n",
       "   Official language Out of pocket health expenditure Physicians per thousand  \\\n",
       "0             Pashto                           78.40%                    0.28   \n",
       "1           Albanian                           56.90%                    1.20   \n",
       "2             Arabic                           28.10%                    1.72   \n",
       "3            Catalan                           36.40%                    3.33   \n",
       "4         Portuguese                           33.40%                    0.21   \n",
       "\n",
       "   Population Population: Labor force participation (%) Tax revenue (%)  \\\n",
       "0  38,041,754                                    48.90%           9.30%   \n",
       "1   2,854,191                                    55.70%          18.60%   \n",
       "2  43,053,054                                    41.20%          37.20%   \n",
       "3      77,142                                       NaN             NaN   \n",
       "4  31,825,295                                    77.50%           9.20%   \n",
       "\n",
       "   Total tax rate Unemployment rate Urban_population  Region  \n",
       "0          71.40%            11.12%        9,797,273    Asia  \n",
       "1          36.60%            12.33%        1,747,593  Europe  \n",
       "2          66.10%            11.70%       31,510,100  Africa  \n",
       "3             NaN               NaN           67,873  Europe  \n",
       "4          49.10%             6.89%       21,061,025  Africa  \n",
       "\n",
       "[5 rows x 37 columns]"
      ]
     },
     "execution_count": 27,
     "metadata": {},
     "output_type": "execute_result"
    }
   ],
   "source": [
    "\n",
    "import pandas as pd\n",
    "import pycountry\n",
    "\n",
    "new_df=pd.read_csv('world-data-2023_new.csv')\n",
    "\n",
    "new_df.head()\n"
   ]
  },
  {
   "cell_type": "code",
   "execution_count": 28,
   "metadata": {
    "collapsed": false,
    "jupyter": {
     "outputs_hidden": false
    }
   },
   "outputs": [],
   "source": [
    "new_df['GDP'] = new_df['GDP'].replace('[\\$,]', '', regex=True)\n",
    "new_df['GDP'] = new_df['GDP'].astype(float)\n",
    "new_df['Minimum wage'] = new_df['Minimum wage'].replace('[\\$,]', '', regex=True)\n",
    "new_df['Minimum wage'] = new_df['Minimum wage'].astype(float)\n",
    "new_df['Gasoline Price'] = new_df['Gasoline Price'].replace('[\\$,]', '', regex=True)\n",
    "new_df['Gasoline Price'] = new_df['Gasoline Price'].astype(float)\n",
    "new_df['Population'] = new_df['Population'].replace(',', '', regex=True).astype(float)\n",
    "new_df['Life expectancy'] = new_df['Life expectancy'].astype(float)\n",
    "new_df['Birth Rate'] = new_df['Birth Rate'].astype(float)\n",
    "new_df['CPI Change (%)'] = new_df['CPI Change (%)'].replace('%', '', regex=True).astype(float)\n",
    "new_df['CPI'] = new_df['CPI'].replace(',', '', regex=True).astype(float)\n",
    "\n",
    "new_df['Unemployment rate'] = new_df['Unemployment rate'].replace('%', '', regex=True)\n",
    "new_df['Unemployment rate'] = new_df['Unemployment rate'].astype(float)\n",
    "new_df['Population: Labor force participation (%)'] = new_df['Population: Labor force participation (%)'].replace('%', '', regex=True).astype(float)\n",
    "\n",
    "\n",
    "new_df.rename(columns={\"Density\\n(P/Km2)\": \"Density\"}, inplace=True)\n",
    "\n",
    "\n"
   ]
  },
  {
   "cell_type": "code",
   "execution_count": 29,
   "metadata": {
    "collapsed": false,
    "jupyter": {
     "outputs_hidden": false
    }
   },
   "outputs": [
    {
     "name": "stdout",
     "output_type": "stream",
     "text": [
      "<class 'pandas.core.frame.DataFrame'>\n",
      "RangeIndex: 195 entries, 0 to 194\n",
      "Data columns (total 37 columns):\n",
      " #   Column                                     Non-Null Count  Dtype  \n",
      "---  ------                                     --------------  -----  \n",
      " 0   Country                                    195 non-null    object \n",
      " 1   id                                         195 non-null    int64  \n",
      " 2   Abbreviation                               188 non-null    object \n",
      " 3   Latitude                                   194 non-null    float64\n",
      " 4   Longitude                                  194 non-null    float64\n",
      " 5   Density                                    195 non-null    object \n",
      " 6   Agricultural Land( %)                      188 non-null    object \n",
      " 7   Land Area(Km2)                             194 non-null    object \n",
      " 8   Armed Forces size                          171 non-null    object \n",
      " 9   Birth Rate                                 189 non-null    float64\n",
      " 10  Calling Code                               194 non-null    float64\n",
      " 11  Capital/Major City                         192 non-null    object \n",
      " 12  Co2-Emissions                              188 non-null    object \n",
      " 13  CPI                                        178 non-null    float64\n",
      " 14  CPI Change (%)                             179 non-null    float64\n",
      " 15  Currency-Code                              180 non-null    object \n",
      " 16  Fertility Rate                             188 non-null    float64\n",
      " 17  Forested Area (%)                          188 non-null    object \n",
      " 18  Gasoline Price                             175 non-null    float64\n",
      " 19  GDP                                        193 non-null    float64\n",
      " 20  Gross primary education enrollment (%)     188 non-null    object \n",
      " 21  Gross tertiary education enrollment (%)    183 non-null    object \n",
      " 22  Infant mortality                           189 non-null    float64\n",
      " 23  Largest city                               189 non-null    object \n",
      " 24  Life expectancy                            187 non-null    float64\n",
      " 25  Maternal mortality ratio                   181 non-null    float64\n",
      " 26  Minimum wage                               150 non-null    float64\n",
      " 27  Official language                          190 non-null    object \n",
      " 28  Out of pocket health expenditure           188 non-null    object \n",
      " 29  Physicians per thousand                    188 non-null    float64\n",
      " 30  Population                                 194 non-null    float64\n",
      " 31  Population: Labor force participation (%)  176 non-null    float64\n",
      " 32  Tax revenue (%)                            169 non-null    object \n",
      " 33  Total tax rate                             183 non-null    object \n",
      " 34  Unemployment rate                          176 non-null    float64\n",
      " 35  Urban_population                           190 non-null    object \n",
      " 36  Region                                     195 non-null    object \n",
      "dtypes: float64(17), int64(1), object(19)\n",
      "memory usage: 56.5+ KB\n"
     ]
    }
   ],
   "source": [
    "new_df.info()"
   ]
  },
  {
   "cell_type": "code",
   "execution_count": 30,
   "metadata": {
    "collapsed": false,
    "jupyter": {
     "outputs_hidden": false
    }
   },
   "outputs": [],
   "source": [
    "#Attributes expected to use-\n",
    "#1) population and life expectancy and birth rate (Density analysis)\n",
    "#2) Gdp and cpi and cpi change  (GDP analysis)\n",
    "#3) unemployment rate and labour force participation and population (employment)\n"
   ]
  },
  {
   "cell_type": "code",
   "execution_count": 31,
   "metadata": {
    "collapsed": false,
    "jupyter": {
     "outputs_hidden": false
    }
   },
   "outputs": [
    {
     "name": "stdout",
     "output_type": "stream",
     "text": [
      "<class 'pandas.core.frame.DataFrame'>\n",
      "RangeIndex: 195 entries, 0 to 194\n",
      "Data columns (total 37 columns):\n",
      " #   Column                                     Non-Null Count  Dtype  \n",
      "---  ------                                     --------------  -----  \n",
      " 0   Country                                    195 non-null    object \n",
      " 1   id                                         195 non-null    int64  \n",
      " 2   Abbreviation                               188 non-null    object \n",
      " 3   Latitude                                   194 non-null    float64\n",
      " 4   Longitude                                  194 non-null    float64\n",
      " 5   Density                                    195 non-null    object \n",
      " 6   Agricultural Land( %)                      188 non-null    object \n",
      " 7   Land Area(Km2)                             194 non-null    object \n",
      " 8   Armed Forces size                          171 non-null    object \n",
      " 9   Birth Rate                                 189 non-null    float64\n",
      " 10  Calling Code                               194 non-null    float64\n",
      " 11  Capital/Major City                         192 non-null    object \n",
      " 12  Co2-Emissions                              188 non-null    object \n",
      " 13  CPI                                        178 non-null    float64\n",
      " 14  CPI Change (%)                             179 non-null    float64\n",
      " 15  Currency-Code                              180 non-null    object \n",
      " 16  Fertility Rate                             188 non-null    float64\n",
      " 17  Forested Area (%)                          188 non-null    object \n",
      " 18  Gasoline Price                             175 non-null    float64\n",
      " 19  GDP                                        193 non-null    float64\n",
      " 20  Gross primary education enrollment (%)     188 non-null    object \n",
      " 21  Gross tertiary education enrollment (%)    183 non-null    object \n",
      " 22  Infant mortality                           189 non-null    float64\n",
      " 23  Largest city                               189 non-null    object \n",
      " 24  Life expectancy                            187 non-null    float64\n",
      " 25  Maternal mortality ratio                   181 non-null    float64\n",
      " 26  Minimum wage                               150 non-null    float64\n",
      " 27  Official language                          190 non-null    object \n",
      " 28  Out of pocket health expenditure           188 non-null    object \n",
      " 29  Physicians per thousand                    188 non-null    float64\n",
      " 30  Population                                 194 non-null    float64\n",
      " 31  Population: Labor force participation (%)  176 non-null    float64\n",
      " 32  Tax revenue (%)                            169 non-null    object \n",
      " 33  Total tax rate                             183 non-null    object \n",
      " 34  Unemployment rate                          176 non-null    float64\n",
      " 35  Urban_population                           190 non-null    object \n",
      " 36  Region                                     195 non-null    object \n",
      "dtypes: float64(17), int64(1), object(19)\n",
      "memory usage: 56.5+ KB\n"
     ]
    }
   ],
   "source": [
    "new_df.describe()"
   ]
  },
  {
   "cell_type": "code",
   "execution_count": 32,
   "metadata": {
    "collapsed": false,
    "jupyter": {
     "outputs_hidden": false
    }
   },
   "outputs": [],
   "source": [
    "# Function to get ISO alpha-3 code\n",
    "def get_iso_code(country_name):\n",
    "    try:\n",
    "        return pycountry.countries.lookup(country_name).alpha_3 \n",
    "      \n",
    "    except LookupError:\n",
    "        return None  \n",
    "new_df['iso_alpha_3'] = new_df['Country'].apply(get_iso_code)"
   ]
  },
  {
   "cell_type": "code",
   "execution_count": null,
   "metadata": {
    "collapsed": false,
    "jupyter": {
     "outputs_hidden": false
    }
   },
   "outputs": [],
   "source": [
    "new_df.head(50)"
   ]
  },
  {
   "cell_type": "code",
   "execution_count": 35,
   "metadata": {
    "collapsed": false,
    "jupyter": {
     "outputs_hidden": false
    }
   },
   "outputs": [],
   "source": [
    "new_df.to_csv('main_data.csv', index=False)"
   ]
  },
  {
   "cell_type": "code",
   "execution_count": null,
   "metadata": {
    "collapsed": false,
    "jupyter": {
     "outputs_hidden": false
    }
   },
   "outputs": [],
   "source": []
  }
 ],
 "metadata": {
  "kernelspec": {
   "display_name": "Python 3 (ipykernel)",
   "language": "python",
   "name": "python3"
  },
  "language_info": {
   "codemirror_mode": {
    "name": "ipython",
    "version": 3
   },
   "file_extension": ".py",
   "mimetype": "text/x-python",
   "name": "python",
   "nbconvert_exporter": "python",
   "pygments_lexer": "ipython3",
   "version": "3.9.13"
  }
 },
 "nbformat": 4,
 "nbformat_minor": 4
}
